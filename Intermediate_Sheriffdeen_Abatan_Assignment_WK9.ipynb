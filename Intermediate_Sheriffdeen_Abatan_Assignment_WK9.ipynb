{
 "cells": [
  {
   "cell_type": "markdown",
   "id": "ea4f71cc-3255-4283-93c1-da83a00d1b0d",
   "metadata": {},
   "source": [
    "# Assignment 7 (Week 9)\n",
    "\n",
    ">**Note**: \n",
    "\n",
    "```\n",
    "- Late submissions are penalized.\n",
    "- Only GitHub submissions are acceptable.\n",
    "- Remember to read the `instructions` carefully.\n",
    "```\n",
    "\n",
    "## Name: Sheriffdeen Abatan\n",
    "\n",
    "<br>\n",
    "\n",
    "## Please show and display ALL your calculations and results.\n"
   ]
  },
  {
   "cell_type": "code",
   "execution_count": 44,
   "id": "7f659c96-b085-483c-960c-16b53a0312e3",
   "metadata": {},
   "outputs": [
    {
     "name": "stdout",
     "output_type": "stream",
     "text": [
      "Requirement already satisfied: wordcloud in c:\\users\\hi\\anaconda3\\lib\\site-packages (1.9.1.1)\n",
      "Requirement already satisfied: numpy>=1.6.1 in c:\\users\\hi\\anaconda3\\lib\\site-packages (from wordcloud) (1.21.5)\n",
      "Requirement already satisfied: pillow in c:\\users\\hi\\anaconda3\\lib\\site-packages (from wordcloud) (9.0.1)\n",
      "Requirement already satisfied: matplotlib in c:\\users\\hi\\anaconda3\\lib\\site-packages (from wordcloud) (3.5.1)\n",
      "Requirement already satisfied: cycler>=0.10 in c:\\users\\hi\\anaconda3\\lib\\site-packages (from matplotlib->wordcloud) (0.11.0)\n",
      "Requirement already satisfied: fonttools>=4.22.0 in c:\\users\\hi\\anaconda3\\lib\\site-packages (from matplotlib->wordcloud) (4.25.0)\n",
      "Requirement already satisfied: kiwisolver>=1.0.1 in c:\\users\\hi\\anaconda3\\lib\\site-packages (from matplotlib->wordcloud) (1.3.2)\n",
      "Requirement already satisfied: packaging>=20.0 in c:\\users\\hi\\anaconda3\\lib\\site-packages (from matplotlib->wordcloud) (21.3)\n",
      "Requirement already satisfied: pyparsing>=2.2.1 in c:\\users\\hi\\anaconda3\\lib\\site-packages (from matplotlib->wordcloud) (3.0.4)\n",
      "Requirement already satisfied: python-dateutil>=2.7 in c:\\users\\hi\\anaconda3\\lib\\site-packages (from matplotlib->wordcloud) (2.8.2)\n",
      "Requirement already satisfied: six>=1.5 in c:\\users\\hi\\anaconda3\\lib\\site-packages (from python-dateutil>=2.7->matplotlib->wordcloud) (1.16.0)\n",
      "The lab_black extension is already loaded. To reload it, use:\n",
      "  %reload_ext lab_black\n"
     ]
    },
    {
     "name": "stderr",
     "output_type": "stream",
     "text": [
      "[nltk_data] Downloading package stopwords to\n",
      "[nltk_data]     C:\\Users\\HI\\AppData\\Roaming\\nltk_data...\n",
      "[nltk_data]   Package stopwords is already up-to-date!\n"
     ]
    }
   ],
   "source": [
    "# Built-in library\n",
    "import itertools\n",
    "import re\n",
    "from typing import Any, Optional, Sequence, Union\n",
    "\n",
    "!pip install wordcloud\n",
    "\n",
    "\n",
    "# Standard imports\n",
    "import numpy as np\n",
    "import pandas as pd\n",
    "import matplotlib.pyplot as plt\n",
    "import seaborn as sns\n",
    "from datetime import datetime, timedelta\n",
    "from os import path\n",
    "from PIL import Image\n",
    "from wordcloud import WordCloud, STOPWORDS, ImageColorGenerator\n",
    "import transformers\n",
    "from transformers import pipeline\n",
    "\n",
    "import nltk\n",
    "\n",
    "nltk.download(\"stopwords\")\n",
    "from nltk.corpus import stopwords\n",
    "\n",
    "\n",
    "# pandas settings\n",
    "pd.options.display.max_rows = 1_000\n",
    "pd.options.display.max_columns = 1_000\n",
    "pd.options.display.max_colwidth = 1_000\n",
    "\n",
    "\n",
    "# Black code formatter (Optional)\n",
    "%load_ext lab_black"
   ]
  },
  {
   "cell_type": "code",
   "execution_count": null,
   "id": "ffed0267-e8b6-4bb2-ba37-34771056f387",
   "metadata": {},
   "outputs": [],
   "source": []
  },
  {
   "cell_type": "code",
   "execution_count": null,
   "id": "10d6ec1e-c5a9-4fc3-b00e-aa9f3966e96f",
   "metadata": {},
   "outputs": [],
   "source": []
  },
  {
   "cell_type": "markdown",
   "id": "172f8480-1c1d-46b3-a205-87f96b140b69",
   "metadata": {},
   "source": [
    "> Data source is from **Kaggle**. To complete this assignment, you **must create an account** with **Kaggle**.\n",
    "\n",
    "- The data can be found [here](https://www.kaggle.com/datasets/nenamalikah/nlp-ulta-skincare-reviews).\n",
    "\n",
    "### Data Dictionary\n",
    "\n",
    "```\n",
    "- Review Title: The title of the review.\n",
    "- Review_Text: The full text of the review.\n",
    "- Verified_Buyer: Whether the reviewer is a verified buyer of the product.\n",
    "- Review_Date: The date the review was published relative to the review scrape date.\n",
    "- Review_Location: The location of the reviewer.\n",
    "- Review_Upvotes: How many times the review was upvoted by other reviewers.\n",
    "- Review_Downvotes: How many times the review was downvoted by other reviewers.\n",
    "- Product: The name of the product the review was issued for.\n",
    "- Brand: The brand of the product.\n",
    "- Scrape Date: The date the data was pulled from the web.\n",
    "```\n",
    "\n",
    "### Objectives\n",
    "\n",
    "```\n",
    "1. Exploratory Data Analysis.\n",
    "\n",
    "2. Research and experimentation.\n",
    "\n",
    "3. Sentiments Analysis.\n",
    "\n",
    "```\n",
    "\n",
    "## Note: \n",
    "\n",
    "- The assignment **should** be submitted through a `public` GitHub repository.\n",
    "\n",
    "<br><hr>"
   ]
  },
  {
   "cell_type": "markdown",
   "id": "00321ed0-7629-4bc5-8b05-5911425dc126",
   "metadata": {},
   "source": [
    "Documentation of the Analysis and Objectives\n",
    "\n",
    "### Objectives\n",
    "\n",
    "```\n",
    "1. Exploratory Data Analysis.\n",
    "\n",
    "2. Research and experimentation.\n",
    "\n",
    "3. Sentiments Analysis."
   ]
  },
  {
   "cell_type": "code",
   "execution_count": 2,
   "id": "774702d6-1d6a-4d06-a8d6-2656b77d82b4",
   "metadata": {},
   "outputs": [],
   "source": [
    "df = pd.read_csv(\"Ulta Skincare Reviews.csv\")"
   ]
  },
  {
   "cell_type": "code",
   "execution_count": 3,
   "id": "d8ee1594-bb95-439f-8909-1bb417c899a0",
   "metadata": {},
   "outputs": [
    {
     "data": {
      "text/html": [
       "<div>\n",
       "<style scoped>\n",
       "    .dataframe tbody tr th:only-of-type {\n",
       "        vertical-align: middle;\n",
       "    }\n",
       "\n",
       "    .dataframe tbody tr th {\n",
       "        vertical-align: top;\n",
       "    }\n",
       "\n",
       "    .dataframe thead th {\n",
       "        text-align: right;\n",
       "    }\n",
       "</style>\n",
       "<table border=\"1\" class=\"dataframe\">\n",
       "  <thead>\n",
       "    <tr style=\"text-align: right;\">\n",
       "      <th></th>\n",
       "      <th>Review_Title</th>\n",
       "      <th>Review_Text</th>\n",
       "      <th>Verified_Buyer</th>\n",
       "      <th>Review_Date</th>\n",
       "      <th>Review_Location</th>\n",
       "      <th>Review_Upvotes</th>\n",
       "      <th>Review_Downvotes</th>\n",
       "      <th>Product</th>\n",
       "      <th>Brand</th>\n",
       "      <th>Scrape_Date</th>\n",
       "    </tr>\n",
       "  </thead>\n",
       "  <tbody>\n",
       "    <tr>\n",
       "      <th>0</th>\n",
       "      <td>Perfect</td>\n",
       "      <td>Love using this on my face while in the shower. Heats up and gives a light scrub nicely</td>\n",
       "      <td>No</td>\n",
       "      <td>15 days ago</td>\n",
       "      <td>Undisclosed</td>\n",
       "      <td>0</td>\n",
       "      <td>0</td>\n",
       "      <td>Multi-Vitamin Thermafoliant</td>\n",
       "      <td>Dermalogica</td>\n",
       "      <td>3/27/23</td>\n",
       "    </tr>\n",
       "    <tr>\n",
       "      <th>1</th>\n",
       "      <td>You need this</td>\n",
       "      <td>Even better than the daily microfoliant. I'm obsessed. My skin is SO MUCH smoother</td>\n",
       "      <td>No</td>\n",
       "      <td>27 days ago</td>\n",
       "      <td>Undisclosed</td>\n",
       "      <td>0</td>\n",
       "      <td>0</td>\n",
       "      <td>Multi-Vitamin Thermafoliant</td>\n",
       "      <td>Dermalogica</td>\n",
       "      <td>3/27/23</td>\n",
       "    </tr>\n",
       "    <tr>\n",
       "      <th>2</th>\n",
       "      <td>Clean skin</td>\n",
       "      <td>Enjoy this product so much ! I look forward to using it - really feels great.</td>\n",
       "      <td>No</td>\n",
       "      <td>2 months ago</td>\n",
       "      <td>Undisclosed</td>\n",
       "      <td>0</td>\n",
       "      <td>0</td>\n",
       "      <td>Multi-Vitamin Thermafoliant</td>\n",
       "      <td>Dermalogica</td>\n",
       "      <td>3/27/23</td>\n",
       "    </tr>\n",
       "    <tr>\n",
       "      <th>3</th>\n",
       "      <td>Love This Stuff!</td>\n",
       "      <td>I've never tried anything like this before and I love it. When you apply it to your face you get a little shot of warm that feels so good. The scrub seems very gritty but the only side effects I've encountered have been positive ones.</td>\n",
       "      <td>No</td>\n",
       "      <td>2 months ago</td>\n",
       "      <td>Undisclosed</td>\n",
       "      <td>0</td>\n",
       "      <td>0</td>\n",
       "      <td>Multi-Vitamin Thermafoliant</td>\n",
       "      <td>Dermalogica</td>\n",
       "      <td>3/27/23</td>\n",
       "    </tr>\n",
       "    <tr>\n",
       "      <th>4</th>\n",
       "      <td>This exfoliates very nicely and</td>\n",
       "      <td>This exfoliates very nicely and gives a very smooth skin after with no irritation and no reaction to the skin . I highly recommended it, i will buy it again.</td>\n",
       "      <td>No</td>\n",
       "      <td>2 months ago</td>\n",
       "      <td>Undisclosed</td>\n",
       "      <td>0</td>\n",
       "      <td>0</td>\n",
       "      <td>Multi-Vitamin Thermafoliant</td>\n",
       "      <td>Dermalogica</td>\n",
       "      <td>3/27/23</td>\n",
       "    </tr>\n",
       "  </tbody>\n",
       "</table>\n",
       "</div>"
      ],
      "text/plain": [
       "                      Review_Title  \\\n",
       "0                          Perfect   \n",
       "1                    You need this   \n",
       "2                       Clean skin   \n",
       "3                 Love This Stuff!   \n",
       "4  This exfoliates very nicely and   \n",
       "\n",
       "                                                                                                                                                                                                                                  Review_Text  \\\n",
       "0                                                                                                                                                     Love using this on my face while in the shower. Heats up and gives a light scrub nicely   \n",
       "1                                                                                                                                                          Even better than the daily microfoliant. I'm obsessed. My skin is SO MUCH smoother   \n",
       "2                                                                                                                                                               Enjoy this product so much ! I look forward to using it - really feels great.   \n",
       "3  I've never tried anything like this before and I love it. When you apply it to your face you get a little shot of warm that feels so good. The scrub seems very gritty but the only side effects I've encountered have been positive ones.   \n",
       "4                                                                               This exfoliates very nicely and gives a very smooth skin after with no irritation and no reaction to the skin . I highly recommended it, i will buy it again.   \n",
       "\n",
       "  Verified_Buyer   Review_Date Review_Location  Review_Upvotes  \\\n",
       "0             No   15 days ago     Undisclosed               0   \n",
       "1             No   27 days ago     Undisclosed               0   \n",
       "2             No  2 months ago     Undisclosed               0   \n",
       "3             No  2 months ago     Undisclosed               0   \n",
       "4             No  2 months ago     Undisclosed               0   \n",
       "\n",
       "   Review_Downvotes                      Product        Brand Scrape_Date  \n",
       "0                 0  Multi-Vitamin Thermafoliant  Dermalogica     3/27/23  \n",
       "1                 0  Multi-Vitamin Thermafoliant  Dermalogica     3/27/23  \n",
       "2                 0  Multi-Vitamin Thermafoliant  Dermalogica     3/27/23  \n",
       "3                 0  Multi-Vitamin Thermafoliant  Dermalogica     3/27/23  \n",
       "4                 0  Multi-Vitamin Thermafoliant  Dermalogica     3/27/23  "
      ]
     },
     "execution_count": 3,
     "metadata": {},
     "output_type": "execute_result"
    }
   ],
   "source": [
    "df.head(5)"
   ]
  },
  {
   "cell_type": "markdown",
   "id": "35397296-515a-40b0-a7a7-04ddfdff2c4b",
   "metadata": {},
   "source": [
    "###  Qs 1. Explore the data. What can the reviews tell us about the products? Do most buyers have common skincare issues? What issues did the products help solve or exacerbate?\n"
   ]
  },
  {
   "cell_type": "code",
   "execution_count": 4,
   "id": "a0038bcd-5c4a-44f9-abe7-e3887fec07aa",
   "metadata": {},
   "outputs": [
    {
     "name": "stdout",
     "output_type": "stream",
     "text": [
      "Review_Title        object\n",
      "Review_Text         object\n",
      "Verified_Buyer      object\n",
      "Review_Date         object\n",
      "Review_Location     object\n",
      "Review_Upvotes       int64\n",
      "Review_Downvotes     int64\n",
      "Product             object\n",
      "Brand               object\n",
      "Scrape_Date         object\n",
      "dtype: object\n"
     ]
    }
   ],
   "source": [
    "# Check the data types of the columns\n",
    "\n",
    "print(df.dtypes)"
   ]
  },
  {
   "cell_type": "code",
   "execution_count": 5,
   "id": "f05a14a2-73ed-4df6-b0c0-be18da3d08b9",
   "metadata": {},
   "outputs": [
    {
     "data": {
      "text/plain": [
       "456"
      ]
     },
     "execution_count": 5,
     "metadata": {},
     "output_type": "execute_result"
    }
   ],
   "source": [
    "# Checking for duplicates\n",
    "\n",
    "df.duplicated().sum()"
   ]
  },
  {
   "cell_type": "code",
   "execution_count": 6,
   "id": "2e0d3a49-67a1-433d-a7f8-6ff80d5ef799",
   "metadata": {},
   "outputs": [],
   "source": [
    "# Define a function to convert \"X days/months ago\" to a datetime format\n",
    "\n",
    "\n",
    "def convert_date_string(date_string):\n",
    "    today = datetime.today()\n",
    "    if \"day\" in date_string:\n",
    "        days_ago = int(date_string.split()[0])\n",
    "        date = today - timedelta(days=days_ago)\n",
    "    elif \"month\" in date_string:\n",
    "        months_ago = int(date_string.split()[0])\n",
    "        date = today - timedelta(days=months_ago * 30)\n",
    "    else:\n",
    "        date = None\n",
    "    return date\n",
    "\n",
    "\n",
    "# Apply the function to the Review_Date column\n",
    "\n",
    "df[\"Review_Date\"] = df[\"Review_Date\"].apply(convert_date_string)"
   ]
  },
  {
   "cell_type": "code",
   "execution_count": 7,
   "id": "433bc74d-6a56-4f77-90be-7d848324ec94",
   "metadata": {},
   "outputs": [
    {
     "name": "stdout",
     "output_type": "stream",
     "text": [
      "Number of unique products: 4\n",
      "Number of unique brands: 1\n"
     ]
    }
   ],
   "source": [
    "# Check the number of unique products and brands\n",
    "\n",
    "print(\"Number of unique products:\", df[\"Product\"].nunique())\n",
    "print(\"Number of unique brands:\", df[\"Brand\"].nunique())"
   ]
  },
  {
   "cell_type": "code",
   "execution_count": 8,
   "id": "3a388629-61ef-456d-864a-8abb295fd772",
   "metadata": {},
   "outputs": [
    {
     "name": "stdout",
     "output_type": "stream",
     "text": [
      "Number of verified buyers: 1249\n"
     ]
    }
   ],
   "source": [
    "# Check the number of verified buyers\n",
    "\n",
    "print(\"Number of verified buyers:\", df[\"Verified_Buyer\"].value_counts()[1])"
   ]
  },
  {
   "cell_type": "code",
   "execution_count": 9,
   "id": "1625c883-6652-4657-8347-b028fdbcedba",
   "metadata": {},
   "outputs": [
    {
     "name": "stdout",
     "output_type": "stream",
     "text": [
      "Average number of upvotes per review: 0.5913253012048193\n",
      "Average number of downvotes per review: 0.16120481927710845\n"
     ]
    }
   ],
   "source": [
    "# Compute the average number of upvotes and downvotes per review\n",
    "\n",
    "avg_upvotes = df[\"Review_Upvotes\"].mean()\n",
    "avg_downvotes = df[\"Review_Downvotes\"].mean()\n",
    "print(\"Average number of upvotes per review:\", avg_upvotes)\n",
    "print(\"Average number of downvotes per review:\", avg_downvotes)"
   ]
  },
  {
   "cell_type": "code",
   "execution_count": 10,
   "id": "eabd3b25-5bf0-473c-a56e-56295c071320",
   "metadata": {},
   "outputs": [
    {
     "name": "stdout",
     "output_type": "stream",
     "text": [
      "Most common review titles:\n",
      " Amazing product                    95\n",
      "Love this mask                     90\n",
      "It's hydrating                     89\n",
      "Would absolutely buy this again    89\n",
      "Buy it!                            89\n",
      "Name: Review_Title, dtype: int64\n"
     ]
    }
   ],
   "source": [
    "# Check the most common review titles\n",
    "\n",
    "print(\"Most common review titles:\\n\", df[\"Review_Title\"].value_counts().head())"
   ]
  },
  {
   "cell_type": "code",
   "execution_count": 11,
   "id": "f38a5a77-5885-49ce-9ab4-692e34e28d1c",
   "metadata": {},
   "outputs": [
    {
     "name": "stdout",
     "output_type": "stream",
     "text": [
      "Most common review text words:\n",
      " I      8110\n",
      "and    7304\n",
      "my     5457\n",
      "a      4793\n",
      "the    4737\n",
      "dtype: int64\n"
     ]
    }
   ],
   "source": [
    "# Convert the \"Review_Text\" column to strings, replacing NaN values with empty strings\n",
    "\n",
    "df[\"Review_Text\"] = df[\"Review_Text\"].fillna(\"\")\n",
    "\n",
    "# Check the most common review text words\n",
    "\n",
    "review_text_words = \" \".join(df[\"Review_Text\"]).split()\n",
    "review_text_word_counts = pd.Series(review_text_words).value_counts()\n",
    "print(\"Most common review text words:\\n\", review_text_word_counts.head())"
   ]
  },
  {
   "cell_type": "code",
   "execution_count": 12,
   "id": "bf7b613b-9e21-4bee-9bbc-e9c8df42ea73",
   "metadata": {},
   "outputs": [
    {
     "data": {
      "text/plain": [
       "array(['Multi-Vitamin Thermafoliant', 'Hydro Masque Exfoliant',\n",
       "       'Daily Superfoliant', 'Daily Microfoliant'], dtype=object)"
      ]
     },
     "execution_count": 12,
     "metadata": {},
     "output_type": "execute_result"
    }
   ],
   "source": [
    "# Checking the product column\n",
    "\n",
    "df[\"Product\"].unique()"
   ]
  },
  {
   "cell_type": "code",
   "execution_count": 13,
   "id": "2a76455d-3e13-4814-adf7-40303a6a84ae",
   "metadata": {},
   "outputs": [
    {
     "data": {
      "text/plain": [
       "Review_Title           0\n",
       "Review_Text            0\n",
       "Verified_Buyer         0\n",
       "Review_Date         3446\n",
       "Review_Location        1\n",
       "Review_Upvotes         0\n",
       "Review_Downvotes       0\n",
       "Product                0\n",
       "Brand                  0\n",
       "Scrape_Date            0\n",
       "dtype: int64"
      ]
     },
     "execution_count": 13,
     "metadata": {},
     "output_type": "execute_result"
    }
   ],
   "source": [
    "# Checking for missing values in the data\n",
    "\n",
    "df.isna().sum()"
   ]
  },
  {
   "cell_type": "code",
   "execution_count": 14,
   "id": "90a41853-3849-4687-9352-bada82980baa",
   "metadata": {},
   "outputs": [],
   "source": [
    "# Filing the missing values\n",
    "\n",
    "df.fillna(\"NULL\", inplace=True)"
   ]
  },
  {
   "cell_type": "code",
   "execution_count": 15,
   "id": "19b21923-632e-4503-84e7-0e4724a47ff5",
   "metadata": {},
   "outputs": [
    {
     "data": {
      "text/plain": [
       "Review_Title        0\n",
       "Review_Text         0\n",
       "Verified_Buyer      0\n",
       "Review_Date         0\n",
       "Review_Location     0\n",
       "Review_Upvotes      0\n",
       "Review_Downvotes    0\n",
       "Product             0\n",
       "Brand               0\n",
       "Scrape_Date         0\n",
       "dtype: int64"
      ]
     },
     "execution_count": 15,
     "metadata": {},
     "output_type": "execute_result"
    }
   ],
   "source": [
    "# Checking for missing values in the data\n",
    "\n",
    "df.isna().sum()"
   ]
  },
  {
   "cell_type": "code",
   "execution_count": 16,
   "id": "26ee50b6-8926-4ae3-9fff-49b1faf50fa9",
   "metadata": {},
   "outputs": [
    {
     "data": {
      "text/html": [
       "<div>\n",
       "<style scoped>\n",
       "    .dataframe tbody tr th:only-of-type {\n",
       "        vertical-align: middle;\n",
       "    }\n",
       "\n",
       "    .dataframe tbody tr th {\n",
       "        vertical-align: top;\n",
       "    }\n",
       "\n",
       "    .dataframe thead th {\n",
       "        text-align: right;\n",
       "    }\n",
       "</style>\n",
       "<table border=\"1\" class=\"dataframe\">\n",
       "  <thead>\n",
       "    <tr style=\"text-align: right;\">\n",
       "      <th></th>\n",
       "      <th>Review_Upvotes</th>\n",
       "      <th>Review_Downvotes</th>\n",
       "    </tr>\n",
       "  </thead>\n",
       "  <tbody>\n",
       "    <tr>\n",
       "      <th>count</th>\n",
       "      <td>4150.000000</td>\n",
       "      <td>4150.000000</td>\n",
       "    </tr>\n",
       "    <tr>\n",
       "      <th>mean</th>\n",
       "      <td>0.591325</td>\n",
       "      <td>0.161205</td>\n",
       "    </tr>\n",
       "    <tr>\n",
       "      <th>std</th>\n",
       "      <td>2.210041</td>\n",
       "      <td>0.912561</td>\n",
       "    </tr>\n",
       "    <tr>\n",
       "      <th>min</th>\n",
       "      <td>0.000000</td>\n",
       "      <td>0.000000</td>\n",
       "    </tr>\n",
       "    <tr>\n",
       "      <th>25%</th>\n",
       "      <td>0.000000</td>\n",
       "      <td>0.000000</td>\n",
       "    </tr>\n",
       "    <tr>\n",
       "      <th>50%</th>\n",
       "      <td>0.000000</td>\n",
       "      <td>0.000000</td>\n",
       "    </tr>\n",
       "    <tr>\n",
       "      <th>75%</th>\n",
       "      <td>0.000000</td>\n",
       "      <td>0.000000</td>\n",
       "    </tr>\n",
       "    <tr>\n",
       "      <th>max</th>\n",
       "      <td>84.000000</td>\n",
       "      <td>35.000000</td>\n",
       "    </tr>\n",
       "  </tbody>\n",
       "</table>\n",
       "</div>"
      ],
      "text/plain": [
       "       Review_Upvotes  Review_Downvotes\n",
       "count     4150.000000       4150.000000\n",
       "mean         0.591325          0.161205\n",
       "std          2.210041          0.912561\n",
       "min          0.000000          0.000000\n",
       "25%          0.000000          0.000000\n",
       "50%          0.000000          0.000000\n",
       "75%          0.000000          0.000000\n",
       "max         84.000000         35.000000"
      ]
     },
     "execution_count": 16,
     "metadata": {},
     "output_type": "execute_result"
    }
   ],
   "source": [
    "# Checking the description summary of the dataset.\n",
    "\n",
    "df.describe()"
   ]
  },
  {
   "cell_type": "code",
   "execution_count": 17,
   "id": "17ddae68-f5cc-44a1-a565-1afbf55e4fd6",
   "metadata": {},
   "outputs": [
    {
     "data": {
      "text/html": [
       "<div>\n",
       "<style scoped>\n",
       "    .dataframe tbody tr th:only-of-type {\n",
       "        vertical-align: middle;\n",
       "    }\n",
       "\n",
       "    .dataframe tbody tr th {\n",
       "        vertical-align: top;\n",
       "    }\n",
       "\n",
       "    .dataframe thead th {\n",
       "        text-align: right;\n",
       "    }\n",
       "</style>\n",
       "<table border=\"1\" class=\"dataframe\">\n",
       "  <thead>\n",
       "    <tr style=\"text-align: right;\">\n",
       "      <th></th>\n",
       "      <th>Review_Title</th>\n",
       "      <th>Review_Text</th>\n",
       "      <th>Verified_Buyer</th>\n",
       "      <th>Review_Upvotes</th>\n",
       "      <th>Review_Downvotes</th>\n",
       "      <th>Product</th>\n",
       "    </tr>\n",
       "  </thead>\n",
       "  <tbody>\n",
       "    <tr>\n",
       "      <th>0</th>\n",
       "      <td>Perfect</td>\n",
       "      <td>Love using this on my face while in the shower. Heats up and gives a light scrub nicely</td>\n",
       "      <td>No</td>\n",
       "      <td>0</td>\n",
       "      <td>0</td>\n",
       "      <td>Multi-Vitamin Thermafoliant</td>\n",
       "    </tr>\n",
       "    <tr>\n",
       "      <th>1</th>\n",
       "      <td>You need this</td>\n",
       "      <td>Even better than the daily microfoliant. I'm obsessed. My skin is SO MUCH smoother</td>\n",
       "      <td>No</td>\n",
       "      <td>0</td>\n",
       "      <td>0</td>\n",
       "      <td>Multi-Vitamin Thermafoliant</td>\n",
       "    </tr>\n",
       "    <tr>\n",
       "      <th>2</th>\n",
       "      <td>Clean skin</td>\n",
       "      <td>Enjoy this product so much ! I look forward to using it - really feels great.</td>\n",
       "      <td>No</td>\n",
       "      <td>0</td>\n",
       "      <td>0</td>\n",
       "      <td>Multi-Vitamin Thermafoliant</td>\n",
       "    </tr>\n",
       "    <tr>\n",
       "      <th>3</th>\n",
       "      <td>Love This Stuff!</td>\n",
       "      <td>I've never tried anything like this before and I love it. When you apply it to your face you get a little shot of warm that feels so good. The scrub seems very gritty but the only side effects I've encountered have been positive ones.</td>\n",
       "      <td>No</td>\n",
       "      <td>0</td>\n",
       "      <td>0</td>\n",
       "      <td>Multi-Vitamin Thermafoliant</td>\n",
       "    </tr>\n",
       "    <tr>\n",
       "      <th>4</th>\n",
       "      <td>This exfoliates very nicely and</td>\n",
       "      <td>This exfoliates very nicely and gives a very smooth skin after with no irritation and no reaction to the skin . I highly recommended it, i will buy it again.</td>\n",
       "      <td>No</td>\n",
       "      <td>0</td>\n",
       "      <td>0</td>\n",
       "      <td>Multi-Vitamin Thermafoliant</td>\n",
       "    </tr>\n",
       "  </tbody>\n",
       "</table>\n",
       "</div>"
      ],
      "text/plain": [
       "                      Review_Title  \\\n",
       "0                          Perfect   \n",
       "1                    You need this   \n",
       "2                       Clean skin   \n",
       "3                 Love This Stuff!   \n",
       "4  This exfoliates very nicely and   \n",
       "\n",
       "                                                                                                                                                                                                                                  Review_Text  \\\n",
       "0                                                                                                                                                     Love using this on my face while in the shower. Heats up and gives a light scrub nicely   \n",
       "1                                                                                                                                                          Even better than the daily microfoliant. I'm obsessed. My skin is SO MUCH smoother   \n",
       "2                                                                                                                                                               Enjoy this product so much ! I look forward to using it - really feels great.   \n",
       "3  I've never tried anything like this before and I love it. When you apply it to your face you get a little shot of warm that feels so good. The scrub seems very gritty but the only side effects I've encountered have been positive ones.   \n",
       "4                                                                               This exfoliates very nicely and gives a very smooth skin after with no irritation and no reaction to the skin . I highly recommended it, i will buy it again.   \n",
       "\n",
       "  Verified_Buyer  Review_Upvotes  Review_Downvotes  \\\n",
       "0             No               0                 0   \n",
       "1             No               0                 0   \n",
       "2             No               0                 0   \n",
       "3             No               0                 0   \n",
       "4             No               0                 0   \n",
       "\n",
       "                       Product  \n",
       "0  Multi-Vitamin Thermafoliant  \n",
       "1  Multi-Vitamin Thermafoliant  \n",
       "2  Multi-Vitamin Thermafoliant  \n",
       "3  Multi-Vitamin Thermafoliant  \n",
       "4  Multi-Vitamin Thermafoliant  "
      ]
     },
     "execution_count": 17,
     "metadata": {},
     "output_type": "execute_result"
    }
   ],
   "source": [
    "# Dropping the unnecessary columns\n",
    "col_to_drp = [\n",
    "    \"Review_Date\",\n",
    "    \"Review_Location\",\n",
    "    \"Brand\",\n",
    "    \"Scrape_Date\",\n",
    "]\n",
    "df.drop(columns=col_to_drp, inplace=True)\n",
    "df.head()"
   ]
  },
  {
   "cell_type": "code",
   "execution_count": 18,
   "id": "26260158-9693-4a5e-bc96-7877caa3c4e4",
   "metadata": {},
   "outputs": [
    {
     "data": {
      "text/plain": [
       "459"
      ]
     },
     "execution_count": 18,
     "metadata": {},
     "output_type": "execute_result"
    }
   ],
   "source": [
    "# Checking for duplicates\n",
    "\n",
    "df.duplicated().sum()"
   ]
  },
  {
   "cell_type": "code",
   "execution_count": 19,
   "id": "1afd4f5a-2823-4548-8b5e-46244694aab5",
   "metadata": {},
   "outputs": [],
   "source": [
    "# Dropping duplicates\n",
    "\n",
    "df.drop_duplicates(inplace=True, keep=\"first\")"
   ]
  },
  {
   "cell_type": "code",
   "execution_count": 20,
   "id": "db1b10e2-7201-44ea-96f6-853db5950327",
   "metadata": {},
   "outputs": [],
   "source": [
    "# Dictionary of English Contractions\n",
    "contractions_dict = {\n",
    "    \"ain't\": \"are not\",\n",
    "    \"'s\": \" is\",\n",
    "    \"aren't\": \"are not\",\n",
    "    \"can't\": \"cannot\",\n",
    "    \"can't've\": \"cannot have\",\n",
    "    \"'cause\": \"because\",\n",
    "    \"could've\": \"could have\",\n",
    "    \"couldn't\": \"could not\",\n",
    "    \"couldn't've\": \"could not have\",\n",
    "    \"didn't\": \"did not\",\n",
    "    \"doesn't\": \"does not\",\n",
    "    \"don't\": \"do not\",\n",
    "    \"hadn't\": \"had not\",\n",
    "    \"hadn't've\": \"had not have\",\n",
    "    \"hasn't\": \"has not\",\n",
    "    \"haven't\": \"have not\",\n",
    "    \"he'd\": \"he would\",\n",
    "    \"he'd've\": \"he would have\",\n",
    "    \"he'll\": \"he will\",\n",
    "    \"he'll've\": \"he will have\",\n",
    "    \"how'd\": \"how did\",\n",
    "    \"how'd'y\": \"how do you\",\n",
    "    \"how'll\": \"how will\",\n",
    "    \"I'd\": \"I would\",\n",
    "    \"I'd've\": \"I would have\",\n",
    "    \"I'll\": \"I will\",\n",
    "    \"I'll've\": \"I will have\",\n",
    "    \"I'm\": \"I am\",\n",
    "    \"I've\": \"I have\",\n",
    "    \"isn't\": \"is not\",\n",
    "    \"it'd\": \"it would\",\n",
    "    \"it'd've\": \"it would have\",\n",
    "    \"it'll\": \"it will\",\n",
    "    \"it'll've\": \"it will have\",\n",
    "    \"let's\": \"let us\",\n",
    "    \"ma'am\": \"madam\",\n",
    "    \"mayn't\": \"may not\",\n",
    "    \"might've\": \"might have\",\n",
    "    \"mightn't\": \"might not\",\n",
    "    \"mightn't've\": \"might not have\",\n",
    "    \"must've\": \"must have\",\n",
    "    \"mustn't\": \"must not\",\n",
    "    \"mustn't've\": \"must not have\",\n",
    "    \"needn't\": \"need not\",\n",
    "    \"needn't've\": \"need not have\",\n",
    "    \"o'clock\": \"of the clock\",\n",
    "    \"oughtn't\": \"ought not\",\n",
    "    \"oughtn't've\": \"ought not have\",\n",
    "    \"shan't\": \"shall not\",\n",
    "    \"sha'n't\": \"shall not\",\n",
    "    \"shan't've\": \"shall not have\",\n",
    "    \"she'd\": \"she would\",\n",
    "    \"she'd've\": \"she would have\",\n",
    "    \"she'll\": \"she will\",\n",
    "    \"she'll've\": \"she will have\",\n",
    "    \"should've\": \"should have\",\n",
    "    \"shouldn't\": \"should not\",\n",
    "    \"shouldn't've\": \"should not have\",\n",
    "    \"so've\": \"so have\",\n",
    "    \"that'd\": \"that would\",\n",
    "    \"that'd've\": \"that would have\",\n",
    "    \"there'd\": \"there would\",\n",
    "    \"there'd've\": \"there would have\",\n",
    "    \"they'd\": \"they would\",\n",
    "    \"they'd've\": \"they would have\",\n",
    "    \"they'll\": \"they will\",\n",
    "    \"they'll've\": \"they will have\",\n",
    "    \"they're\": \"they are\",\n",
    "    \"they've\": \"they have\",\n",
    "    \"to've\": \"to have\",\n",
    "    \"wasn't\": \"was not\",\n",
    "    \"we'd\": \"we would\",\n",
    "    \"we'd've\": \"we would have\",\n",
    "    \"we'll\": \"we will\",\n",
    "    \"we'll've\": \"we will have\",\n",
    "    \"we're\": \"we are\",\n",
    "    \"we've\": \"we have\",\n",
    "    \"weren't\": \"were not\",\n",
    "    \"what'll\": \"what will\",\n",
    "    \"what'll've\": \"what will have\",\n",
    "    \"what're\": \"what are\",\n",
    "    \"what've\": \"what have\",\n",
    "    \"when've\": \"when have\",\n",
    "    \"where'd\": \"where did\",\n",
    "    \"where've\": \"where have\",\n",
    "    \"who'll\": \"who will\",\n",
    "    \"who'll've\": \"who will have\",\n",
    "    \"who've\": \"who have\",\n",
    "    \"why've\": \"why have\",\n",
    "    \"will've\": \"will have\",\n",
    "    \"won't\": \"will not\",\n",
    "    \"won't've\": \"will not have\",\n",
    "    \"would've\": \"would have\",\n",
    "    \"wouldn't\": \"would not\",\n",
    "    \"wouldn't've\": \"would not have\",\n",
    "    \"y'all\": \"you all\",\n",
    "    \"y'all'd\": \"you all would\",\n",
    "    \"y'all'd've\": \"you all would have\",\n",
    "    \"y'all're\": \"you all are\",\n",
    "    \"y'all've\": \"you all have\",\n",
    "    \"you'd\": \"you would\",\n",
    "    \"you'd've\": \"you would have\",\n",
    "    \"you'll\": \"you will\",\n",
    "    \"you'll've\": \"you will have\",\n",
    "    \"you're\": \"you are\",\n",
    "    \"you've\": \"you have\",\n",
    "}\n",
    "\n",
    "# Regular expression for finding contractions\n",
    "contractions_re = re.compile(\"(%s)\" % \"|\".join(contractions_dict.keys()))\n",
    "\n",
    "\n",
    "# Function for expanding contractions\n",
    "def expand_contractions(text, contractions_dict=contractions_dict):\n",
    "    def replace(match):\n",
    "        return contractions_dict[match.group(0)]\n",
    "\n",
    "    return contractions_re.sub(replace, text)\n",
    "\n",
    "\n",
    "# Expanding Contractions in the reviews\n",
    "df[\"Review_Text\"] = df[\"Review_Text\"].apply(lambda x: expand_contractions(x))\n",
    "df[\"Review_Title\"] = df[\"Review_Title\"].apply(lambda x: expand_contractions(x))"
   ]
  },
  {
   "cell_type": "code",
   "execution_count": 21,
   "id": "1781b1da-5316-4a68-8b2d-f34a3e85aef9",
   "metadata": {},
   "outputs": [],
   "source": [
    "# converting text to lowercase\n",
    "\n",
    "df[\"Cleaned_Review_Text\"] = df[\"Review_Text\"].apply(lambda x: x.lower())\n",
    "df[\"Review_Title\"] = df[\"Review_Title\"].apply(lambda x: x.lower())"
   ]
  },
  {
   "cell_type": "code",
   "execution_count": 22,
   "id": "d772b21a-498f-48db-9d7b-d2ce6f320a06",
   "metadata": {},
   "outputs": [],
   "source": [
    "# Removing the digits and words with digit\n",
    "\n",
    "df[\"Cleaned_Review_Text\"] = df[\"Cleaned_Review_Text\"].apply(\n",
    "    lambda x: re.sub(\"\\w*\\d\\w*\", \"\", x)\n",
    ")\n",
    "df[\"Review_Title\"] = df[\"Review_Title\"].apply(lambda x: re.sub(\"\\w*\\d\\w*\", \"\", x))"
   ]
  },
  {
   "cell_type": "code",
   "execution_count": 23,
   "id": "3a1c1bfd-9f36-4109-a870-0e19e60671c7",
   "metadata": {},
   "outputs": [],
   "source": [
    "# Removing the punctuation marks\n",
    "\n",
    "import string\n",
    "\n",
    "df[\"Cleaned_Review_Text\"] = df[\"Cleaned_Review_Text\"].apply(\n",
    "    lambda x: re.sub(\"[%s]\" % re.escape(string.punctuation), \" \", x)\n",
    ")\n",
    "df[\"Review_Title\"] = df[\"Review_Title\"].apply(\n",
    "    lambda x: re.sub(\"[%s]\" % re.escape(string.punctuation), \" \", x)\n",
    ")"
   ]
  },
  {
   "cell_type": "code",
   "execution_count": 24,
   "id": "edbae23d-88c8-4ad7-863b-4deeba35f18e",
   "metadata": {},
   "outputs": [],
   "source": [
    "# Removing extra spaces\n",
    "\n",
    "df[\"Cleaned_Review_Text\"] = df[\"Cleaned_Review_Text\"].apply(\n",
    "    lambda x: re.sub(\" +\", \" \", x)\n",
    ")\n",
    "df[\"Review_Title\"] = df[\"Review_Title\"].apply(lambda x: re.sub(\" +\", \" \", x))"
   ]
  },
  {
   "cell_type": "code",
   "execution_count": null,
   "id": "ee2a031b-0925-42e6-becd-961314d3dec0",
   "metadata": {},
   "outputs": [],
   "source": [
    "import spacy\n",
    "\n",
    "# Load the spaCy model\n",
    "nlp = spacy.load(\"en_core_web_sm\")\n",
    "stopwords = nlp.Defaults.stop_words\n",
    "\n",
    "# Removing the stopwords and lemmatizing\n",
    "df[\"Cleaned_Review_Text\"] = df[\"Cleaned_Review_Text\"].apply(\n",
    "    lambda x: \" \".join(\n",
    "        [token.lemma_ for token in list(nlp(x)) if (token.is_stop == False)]\n",
    "    )\n",
    ")\n",
    "\n",
    "df[\"Review_Title\"] = df[\"Review_Title\"].apply(\n",
    "    lambda x: \" \".join(\n",
    "        [token.lemma_ for token in list(nlp(x)) if (token.is_stop == False)]\n",
    "    )\n",
    ")"
   ]
  },
  {
   "cell_type": "code",
   "execution_count": 27,
   "id": "2da5f6d8-5743-4dc8-93e6-91e011b987e1",
   "metadata": {},
   "outputs": [
    {
     "data": {
      "text/html": [
       "<div>\n",
       "<style scoped>\n",
       "    .dataframe tbody tr th:only-of-type {\n",
       "        vertical-align: middle;\n",
       "    }\n",
       "\n",
       "    .dataframe tbody tr th {\n",
       "        vertical-align: top;\n",
       "    }\n",
       "\n",
       "    .dataframe thead th {\n",
       "        text-align: right;\n",
       "    }\n",
       "</style>\n",
       "<table border=\"1\" class=\"dataframe\">\n",
       "  <thead>\n",
       "    <tr style=\"text-align: right;\">\n",
       "      <th></th>\n",
       "      <th>Review_Title</th>\n",
       "      <th>Cleaned_Review_Text</th>\n",
       "    </tr>\n",
       "    <tr>\n",
       "      <th>Product</th>\n",
       "      <th></th>\n",
       "      <th></th>\n",
       "    </tr>\n",
       "  </thead>\n",
       "  <tbody>\n",
       "    <tr>\n",
       "      <th>Daily Microfoliant</th>\n",
       "      <td>i will be purchasing this exfoliate again not worth it  the one i love  this stuff is amazing good but will make you purge great product did wonders for me i will not be without it don t love new favorite this works for me  definitely recommend perfect addition to my skincare routine  expensive but i love it my go to holy grail works good  will buy all the time staple in my skincare routine wow pretty good but not worth the cost recommend been using this for years  i buy this product again and again  skin feels soft after use  the best exfoliating product i have ever used  amazing gentle and helps for uneven skin yasss  i will never buy this again don t waste your money my new go to love this  texture where flawless base  holy grail status gave me micro cuts enjoy this  i have used this for over years  this is now my go to  improved my skincare nice daily exfoliant just be careful not to over exfoliate i love this product  powder hooked after my first use amazing a must add to your...</td>\n",
       "      <td>recently i have been noticing the appearance off blackheads for months that i normally have not in the past i tried a few exfoliating products with zero change in appearance of them i tried this for first time and have noticed a major difference after first times of trying it i will not be returning but purchasing again when i run out  i bought it and never noticed a change in my skin product smelled like powder milk an not enough product most of the contents weight comes from the moisture absorbent packet found inside  this is the best scrub i have ever used well tacha rice polish is comparable as well these r the only two scrubs i will use with this one you only use a tiny bit mix with water then scrub it leaves your skin so soft and ready for your skincare routine  i am african american and using all natural products or even lush products do not address my issues like this does this is now my go to  beautiful skin does not come over night this product is great but if you do not ...</td>\n",
       "    </tr>\n",
       "    <tr>\n",
       "      <th>Daily Superfoliant</th>\n",
       "      <td>not sure about this one holy grail of cleansers a little gord a long i really like this  my favorite cleanser wonderful product my face thanks you worth every penny  love this item perfect cleaner for my dry and sensitive skin love it will buy again great for smoothing skin love how gentle it is love this exfoliant i have been i love this product it creamy and hydrating best moisturizing this product works well with useing every day soft skin pleasantly surprised like washing your face with fireplace ashes it give my face a clear skin this cleanser works great for after using precleanse this cleanser i love this feels really intensive moisture cleanser staple sferrone chronically dry skin great for flaky sensitive skin great for combating winter weather daily superfoliant seems to be working well love heart ï¸ must have so so so smooth i do not feel this item clean without drying  excellent intensive moisturizing wash works well the powdered exfoliate soaps up not for me best exfo...</td>\n",
       "      <td>i bought this on a whim in store because of great reviews the description says multiple times that it is great at removing make up and impurities i washed twice with this and still a ton of makeup still came up with my toner it is hydrating i guess  i have moderately dry skin all yeat long and every and i mean ever cleanser out there immediately dries me out i have used very expensive products down to drug store products i have been using a cleaning balm for the last years but never feel my face gets very clean even after using it twice in one sitting i was so worried it was going to try me out but omg i was shocked it went on like a regular cleanser rubbed in to well and rinsed under room temp water i felt it immediately moisturized my face but also felt very light and airy and clean will be using this from now on  a little gord a long way so the value for this amazing exfoliant is incredible gentle enough to use every day really makes your skin feel like a blank canvas before moi...</td>\n",
       "    </tr>\n",
       "    <tr>\n",
       "      <th>Hydro Masque Exfoliant</th>\n",
       "      <td>hydro masque exfoliant wonderful masque  excited love this exfoliant soft mask my top choice mask love one of the best reduce price though made my skin silky soft  this is a must have  great product added to my it is okay i have a build up of i love that the beads calm and creamy exfoliant mask love this  love it will purchase again beeds worst bottle ever this exfoliant is amazing i so nice not meant for sensitive skin with acne average not good for sensitive skin harsh  a must  terrible dispenser  i only use this a great product really digs deep with really interesting product  best multitasker  great product too expensive i love how i can suddenly breaking out hydro masque exfoliant good but not great please bring back gentle cream exfoliant amazing  another great product nice ms great product sensitive skin approved  feels great and smells amazing happy with product love the mask great product love this product actually i unique wow wow wow  just loved everything about this sof...</td>\n",
       "      <td>this masque is gentle and easy to use  i cannot say enough about how much this masque feels i tend to be dry but can break out at times my skin feels so hydrated and i rinse it off  i have heard so many good things about this exfoliant i cant wait to use it  second time buying this exfoliant i love how it feels while using it and how it makes my skin feel afterwards  i have used this mask about so far only had it about a month only need a little amount when applying and goes on smoothly in combination with the cream i am using from dermalogica and cleanser i feel a difference in my skins texture quite a bit only stars because i cannot say for sure if it is exfoliating much  this mask is my go to once a week is a must i feel how it exfoliates and clean the skin yet keeps it super hydrated the skin looks visibly clearer and brighter after use don t think about the size it lasts long  love one of the best masks i have ever used i definitely feel like i have smoother and softer skin af...</td>\n",
       "    </tr>\n",
       "    <tr>\n",
       "      <th>Multi-Vitamin Thermafoliant</th>\n",
       "      <td>perfect you need this clean skin love this stuff  this exfoliates very nicely and seriously nice scrub  absolutely love i truly like the multivitamin favorite excelent love this product to exfoliate helped my dry winter face favorite dermalogica product  great product always feel gently best exfoliant best thermafoliant scrub recommendâ€¦ yes  multivitamin thermafoliant great product my favorite exfoliant  love this  love it  amazing feels warm when it goes thermfoliant love my new baby skin love this product i could not polish your skin love the warming sensation when really great exfoliator my skin best stuff ever and it smells good too favorite item noticeable difference  only been using for three my skin has improved since love it my favorite product in the i love this product the i do really like this love the warming sensation and to me this is a best exfoliant i used as i love how this thermafoliant love it  a lovely product  i use it three times nice product great scrub fee...</td>\n",
       "      <td>love using this on my face while in the shower heats up and gives a light scrub nicely even better than the daily microfoliant i am obsessed my skin is so much smoother enjoy this product so much i look forward to using it really feels great  i have never tried anything like this before and i love it when you apply it to your face you get a little shot of warm that feels so good the scrub seems very gritty but the only side effects i have encountered have been positive ones  this exfoliates very nicely and gives a very smooth skin after with no irritation and no reaction to the skin i highly recommended it i will buy it again  love that you can use it wet and dry you can control how abrasive it is leaves your face soft and drenched in vitamins  absolutely love i truly like the multivitamin thermafoliant product which i have been using for the last years i am very happy to purchase directly since it is no longer available from the ulta store  definitely love it my skin face feels be...</td>\n",
       "    </tr>\n",
       "  </tbody>\n",
       "</table>\n",
       "</div>"
      ],
      "text/plain": [
       "                                                                                                                                                                                                                                                                                                                                                                                                                                                                                                                                                                                                                                                                                                                                                                                                                                                                                                                                                                                                                                                        Review_Title  \\\n",
       "Product                                                                                                                                                                                                                                                                                                                                                                                                                                                                                                                                                                                                                                                                                                                                                                                                                                                                                                                                                                                                                                                                \n",
       "Daily Microfoliant           i will be purchasing this exfoliate again not worth it  the one i love  this stuff is amazing good but will make you purge great product did wonders for me i will not be without it don t love new favorite this works for me  definitely recommend perfect addition to my skincare routine  expensive but i love it my go to holy grail works good  will buy all the time staple in my skincare routine wow pretty good but not worth the cost recommend been using this for years  i buy this product again and again  skin feels soft after use  the best exfoliating product i have ever used  amazing gentle and helps for uneven skin yasss  i will never buy this again don t waste your money my new go to love this  texture where flawless base  holy grail status gave me micro cuts enjoy this  i have used this for over years  this is now my go to  improved my skincare nice daily exfoliant just be careful not to over exfoliate i love this product  powder hooked after my first use amazing a must add to your...   \n",
       "Daily Superfoliant           not sure about this one holy grail of cleansers a little gord a long i really like this  my favorite cleanser wonderful product my face thanks you worth every penny  love this item perfect cleaner for my dry and sensitive skin love it will buy again great for smoothing skin love how gentle it is love this exfoliant i have been i love this product it creamy and hydrating best moisturizing this product works well with useing every day soft skin pleasantly surprised like washing your face with fireplace ashes it give my face a clear skin this cleanser works great for after using precleanse this cleanser i love this feels really intensive moisture cleanser staple sferrone chronically dry skin great for flaky sensitive skin great for combating winter weather daily superfoliant seems to be working well love heart ï¸ must have so so so smooth i do not feel this item clean without drying  excellent intensive moisturizing wash works well the powdered exfoliate soaps up not for me best exfo...   \n",
       "Hydro Masque Exfoliant       hydro masque exfoliant wonderful masque  excited love this exfoliant soft mask my top choice mask love one of the best reduce price though made my skin silky soft  this is a must have  great product added to my it is okay i have a build up of i love that the beads calm and creamy exfoliant mask love this  love it will purchase again beeds worst bottle ever this exfoliant is amazing i so nice not meant for sensitive skin with acne average not good for sensitive skin harsh  a must  terrible dispenser  i only use this a great product really digs deep with really interesting product  best multitasker  great product too expensive i love how i can suddenly breaking out hydro masque exfoliant good but not great please bring back gentle cream exfoliant amazing  another great product nice ms great product sensitive skin approved  feels great and smells amazing happy with product love the mask great product love this product actually i unique wow wow wow  just loved everything about this sof...   \n",
       "Multi-Vitamin Thermafoliant  perfect you need this clean skin love this stuff  this exfoliates very nicely and seriously nice scrub  absolutely love i truly like the multivitamin favorite excelent love this product to exfoliate helped my dry winter face favorite dermalogica product  great product always feel gently best exfoliant best thermafoliant scrub recommendâ€¦ yes  multivitamin thermafoliant great product my favorite exfoliant  love this  love it  amazing feels warm when it goes thermfoliant love my new baby skin love this product i could not polish your skin love the warming sensation when really great exfoliator my skin best stuff ever and it smells good too favorite item noticeable difference  only been using for three my skin has improved since love it my favorite product in the i love this product the i do really like this love the warming sensation and to me this is a best exfoliant i used as i love how this thermafoliant love it  a lovely product  i use it three times nice product great scrub fee...   \n",
       "\n",
       "                                                                                                                                                                                                                                                                                                                                                                                                                                                                                                                                                                                                                                                                                                                                                                                                                                                                                                                                                                                                                                                 Cleaned_Review_Text  \n",
       "Product                                                                                                                                                                                                                                                                                                                                                                                                                                                                                                                                                                                                                                                                                                                                                                                                                                                                                                                                                                                                                                                               \n",
       "Daily Microfoliant           recently i have been noticing the appearance off blackheads for months that i normally have not in the past i tried a few exfoliating products with zero change in appearance of them i tried this for first time and have noticed a major difference after first times of trying it i will not be returning but purchasing again when i run out  i bought it and never noticed a change in my skin product smelled like powder milk an not enough product most of the contents weight comes from the moisture absorbent packet found inside  this is the best scrub i have ever used well tacha rice polish is comparable as well these r the only two scrubs i will use with this one you only use a tiny bit mix with water then scrub it leaves your skin so soft and ready for your skincare routine  i am african american and using all natural products or even lush products do not address my issues like this does this is now my go to  beautiful skin does not come over night this product is great but if you do not ...  \n",
       "Daily Superfoliant           i bought this on a whim in store because of great reviews the description says multiple times that it is great at removing make up and impurities i washed twice with this and still a ton of makeup still came up with my toner it is hydrating i guess  i have moderately dry skin all yeat long and every and i mean ever cleanser out there immediately dries me out i have used very expensive products down to drug store products i have been using a cleaning balm for the last years but never feel my face gets very clean even after using it twice in one sitting i was so worried it was going to try me out but omg i was shocked it went on like a regular cleanser rubbed in to well and rinsed under room temp water i felt it immediately moisturized my face but also felt very light and airy and clean will be using this from now on  a little gord a long way so the value for this amazing exfoliant is incredible gentle enough to use every day really makes your skin feel like a blank canvas before moi...  \n",
       "Hydro Masque Exfoliant       this masque is gentle and easy to use  i cannot say enough about how much this masque feels i tend to be dry but can break out at times my skin feels so hydrated and i rinse it off  i have heard so many good things about this exfoliant i cant wait to use it  second time buying this exfoliant i love how it feels while using it and how it makes my skin feel afterwards  i have used this mask about so far only had it about a month only need a little amount when applying and goes on smoothly in combination with the cream i am using from dermalogica and cleanser i feel a difference in my skins texture quite a bit only stars because i cannot say for sure if it is exfoliating much  this mask is my go to once a week is a must i feel how it exfoliates and clean the skin yet keeps it super hydrated the skin looks visibly clearer and brighter after use don t think about the size it lasts long  love one of the best masks i have ever used i definitely feel like i have smoother and softer skin af...  \n",
       "Multi-Vitamin Thermafoliant  love using this on my face while in the shower heats up and gives a light scrub nicely even better than the daily microfoliant i am obsessed my skin is so much smoother enjoy this product so much i look forward to using it really feels great  i have never tried anything like this before and i love it when you apply it to your face you get a little shot of warm that feels so good the scrub seems very gritty but the only side effects i have encountered have been positive ones  this exfoliates very nicely and gives a very smooth skin after with no irritation and no reaction to the skin i highly recommended it i will buy it again  love that you can use it wet and dry you can control how abrasive it is leaves your face soft and drenched in vitamins  absolutely love i truly like the multivitamin thermafoliant product which i have been using for the last years i am very happy to purchase directly since it is no longer available from the ulta store  definitely love it my skin face feels be...  "
      ]
     },
     "execution_count": 27,
     "metadata": {},
     "output_type": "execute_result"
    }
   ],
   "source": [
    "# Grouping the product with the review text and title.\n",
    "\n",
    "df_grouped = (\n",
    "    df[[\"Product\", \"Review_Title\", \"Cleaned_Review_Text\"]]\n",
    "    .groupby(by=\"Product\")\n",
    "    .agg(lambda x: \" \".join(x))\n",
    ")\n",
    "df_grouped.head()"
   ]
  },
  {
   "cell_type": "code",
   "execution_count": 28,
   "id": "469d0e94-15b8-47d3-be63-5b8954d3c9d4",
   "metadata": {},
   "outputs": [
    {
     "data": {
      "text/plain": [
       "[('great product', 7),\n",
       " ('love it', 6),\n",
       " ('love it ', 6),\n",
       " ('great product ', 3),\n",
       " ('great', 3),\n",
       " ('love this product', 3),\n",
       " ('i received this as a free sample in￼ an ulta gift with purchase goodie bag￼ and i am hooked i use it for travel when i am only going away for a couple of days and i do not want to pack my clarisonic in my carry on i love that the larger sizes allow for a more environmentally friendly refill my skin is smooth and even toned every time i use￼ it ',\n",
       "  3),\n",
       " ('love this product ', 3),\n",
       " ('excelent', 2),\n",
       " ('good product', 2),\n",
       " ('super', 2),\n",
       " ('this leaves my skin so so soft and smooth i love the gentle warming sensation too ',\n",
       "  2),\n",
       " (' ', 2),\n",
       " ('i love this so much', 2),\n",
       " ('this is a wonderful product a must have in your daily skin care routine',\n",
       "  2),\n",
       " ('i love this product', 2),\n",
       " ('makes my skin glow', 2),\n",
       " ('my days are generally very busy which always made me think that i do not have much time for skin care routine but i decided to try and start a daily care routine to take care of my skin so i included this exfoliant in my routine using it during the bath first i use the dermalogica cleansing gel and then the exfoliant it is really practical i used it during months before write this review for make sure about the difference and here i am because i really need to say to everyone who are thinking about buy this product that it really worth my skin really improved and the best part is that this product is super gentle with your skin i feel my skin very soft after the use i received this product complimentary for test purposes and i will definitely buy more ',\n",
       "  2),\n",
       " ('been using this since i got it i am satisfied with results and my skin has certainly loved it i am a first timer and was not sure it would suit my skin i received this over a month ago and would pin point anything wrong with the product i received this product complimentary for review purposes ',\n",
       "  2),\n",
       " ('i have been using the cleansing gel for a couple of weeks now and have loved it it does not lather up too much but it leaves my skin feeling soft and clean it does not dry my skin or irritate it either i have rather sensitive skin and often get redness or over drying from other products i would recommend for combination or dry skin as well as sensitive skin i received this product complimentary for review purposes ',\n",
       "  2)]"
      ]
     },
     "execution_count": 28,
     "metadata": {},
     "output_type": "execute_result"
    }
   ],
   "source": [
    "# Checking the most common words\n",
    "\n",
    "from collections import Counter\n",
    "\n",
    "most_common = Counter(df[\"Cleaned_Review_Text\"]).most_common(20)\n",
    "most_common"
   ]
  },
  {
   "cell_type": "code",
   "execution_count": 29,
   "id": "9264ff17-047b-43f7-a66c-4cf06016f7c1",
   "metadata": {},
   "outputs": [
    {
     "data": {
      "text/plain": [
       "[('love it ', 72),\n",
       " ('love it', 69),\n",
       " ('great product', 51),\n",
       " ('amazing', 50),\n",
       " ('great product ', 33),\n",
       " ('amazing ', 32),\n",
       " ('love this product ', 28),\n",
       " ('love this ', 27),\n",
       " ('love', 26),\n",
       " ('love ', 23),\n",
       " ('love this', 21),\n",
       " ('i would buy this product again', 20),\n",
       " ('love this product', 17),\n",
       " ('good product', 17),\n",
       " ('i love this product ', 17),\n",
       " ('great exfoliant', 15),\n",
       " ('amazing product', 15),\n",
       " ('great', 14),\n",
       " ('amazing product ', 13),\n",
       " ('i would buy this product again ', 11)]"
      ]
     },
     "execution_count": 29,
     "metadata": {},
     "output_type": "execute_result"
    }
   ],
   "source": [
    "# Checking the most common words\n",
    "\n",
    "most_common_1 = Counter(df[\"Review_Title\"]).most_common(20)\n",
    "most_common_1"
   ]
  },
  {
   "cell_type": "code",
   "execution_count": 30,
   "id": "d0837c9a-f821-4077-8946-9620f58a8880",
   "metadata": {},
   "outputs": [],
   "source": [
    "# Appending the words and frequently occured of the words in the cleaned review text\n",
    "\n",
    "words = []\n",
    "freq = []\n",
    "for word, count in most_common:\n",
    "    words.append(word)\n",
    "    freq.append(count)"
   ]
  },
  {
   "cell_type": "code",
   "execution_count": 31,
   "id": "daa488e5-35ae-46bd-8859-ed833c811b0b",
   "metadata": {},
   "outputs": [],
   "source": [
    "# Appending the words and frequently occured of the words in the review title\n",
    "\n",
    "words_1 = []\n",
    "freq_1 = []\n",
    "for word, count in most_common_1:\n",
    "    words_1.append(word)\n",
    "    freq_1.append(count)"
   ]
  },
  {
   "cell_type": "code",
   "execution_count": 32,
   "id": "433bdc78-1530-4723-8ef6-7ce2a43d12f6",
   "metadata": {},
   "outputs": [
    {
     "data": {
      "image/png": "[encoded data removed]",
      "text/plain": [
       "<Figure size 432x432 with 1 Axes>"
      ]
     },
     "metadata": {
      "needs_background": "light"
     },
     "output_type": "display_data"
    }
   ],
   "source": [
    "# This show that the buyers loved the product they purchased according to the reviews\n",
    "\n",
    "plt.figure(figsize=(6, 6))\n",
    "sns.countplot(x=df[\"Product\"])\n",
    "plt.xticks(rotation=90)\n",
    "plt.title(\"Product Reviews by Buyers\")\n",
    "plt.show()"
   ]
  },
  {
   "cell_type": "code",
   "execution_count": 33,
   "id": "9c97d61d-7a5f-471d-81f8-397e8e4a2914",
   "metadata": {},
   "outputs": [
    {
     "data": {
      "image/png": "[encoded data removed]",
      "text/plain": [
       "<Figure size 504x504 with 1 Axes>"
      ]
     },
     "metadata": {
      "needs_background": "light"
     },
     "output_type": "display_data"
    }
   ],
   "source": [
    "# Nuber of reviwes by verified buyers against non-verified buyers\n",
    "\n",
    "plt.figure(figsize=(7, 7))\n",
    "sns.countplot(x=df[\"Product\"], hue=df[\"Verified_Buyer\"])\n",
    "plt.xticks(rotation=90)\n",
    "plt.title(\"Vefified and Non-verified Buyers Reviews\")\n",
    "plt.show()"
   ]
  },
  {
   "cell_type": "code",
   "execution_count": null,
   "id": "0e32ca5d-ca19-4254-9f1e-795f609ab8fb",
   "metadata": {},
   "outputs": [],
   "source": []
  },
  {
   "cell_type": "markdown",
   "id": "98668910-b1f7-4932-9586-716f2d6139ad",
   "metadata": {},
   "source": [
    "###  Qs 2. Create a wordcloud showing the words/phrases commonly associated with each product."
   ]
  },
  {
   "cell_type": "code",
   "execution_count": null,
   "id": "a98ba42f-d622-4aa7-ba5f-5905f61e26b7",
   "metadata": {},
   "outputs": [],
   "source": [
    "from PIL import Image, ImageDraw, ImageFont\n",
    "\n",
    "# create image object\n",
    "image = Image.new(mode=\"RGB\", size=(200, 200), color=(255, 255, 255))\n",
    "\n",
    "# create drawing object\n",
    "draw = ImageDraw.Draw(image)\n",
    "\n",
    "# use a TrueType font\n",
    "font_path = \"C:\\Windows\\Fonts\" # replace with the path to your TrueType font\n",
    "font = ImageFont.truetype(font_path, size=20)\n",
    "\n",
    "# draw text on image\n",
    "text = \"Hello, world!\"\n",
    "text_size = draw.textsize(text, font=font)\n",
    "text_position = ((image.width - text_size[0]) // 2, (image.height - text_size[1]) // 2)\n",
    "draw.text(text_position, text, font=font, fill=(0, 0, 0))\n",
    "\n",
    "# show image\n",
    "image.show()"
   ]
  },
  {
   "cell_type": "code",
   "execution_count": 41,
   "id": "c3f3df01-0e2c-4364-b694-222e65df8a2b",
   "metadata": {},
   "outputs": [
    {
     "name": "stdout",
     "output_type": "stream",
     "text": [
      "There are 902268 words in the combination of all the review text after lemmatizing.\n"
     ]
    }
   ],
   "source": [
    "# Total words in the\n",
    "\n",
    "text_1 = \" \".join(review for review in df.Cleaned_Review_Text)\n",
    "print(\n",
    "    \"There are {} words in the combination of all the review text after lemmatizing.\".format(\n",
    "        len(text_1)\n",
    "    )\n",
    ")"
   ]
  },
  {
   "cell_type": "code",
   "execution_count": 42,
   "id": "424a5339-185b-4cc1-ba07-e5e0c9d31935",
   "metadata": {},
   "outputs": [
    {
     "data": {
      "text/plain": [
       "array(['Multi-Vitamin Thermafoliant', 'Hydro Masque Exfoliant',\n",
       "       'Daily Superfoliant', 'Daily Microfoliant'], dtype=object)"
      ]
     },
     "execution_count": 42,
     "metadata": {},
     "output_type": "execute_result"
    }
   ],
   "source": [
    "df.Product.unique()"
   ]
  },
  {
   "cell_type": "code",
   "execution_count": null,
   "id": "2b8fe28a-ee6d-423b-b152-c848a918ecb0",
   "metadata": {},
   "outputs": [],
   "source": [
    "# Create stopword list:\n",
    "stopwords = set(STOPWORDS)\n",
    "stopwords.update(\n",
    "    [\n",
    "        \"Hydro Masque Exfoliant\",\n",
    "    ]\n",
    ")\n",
    "\n",
    "# Generate a word cloud image\n",
    "wordcloud = WordCloud(stopwords=stopwords, background_color=\"black\").generate(text_1)\n",
    "\n",
    "# Display the generated image:\n",
    "# the matplotlib way:\n",
    "plt.imshow(wordcloud, interpolation=\"bilinear\")\n",
    "plt.axis(\"off\")\n",
    "plt.show()"
   ]
  },
  {
   "cell_type": "code",
   "execution_count": null,
   "id": "f518df12-bd7d-44df-b86e-2a556faf7267",
   "metadata": {},
   "outputs": [],
   "source": []
  },
  {
   "cell_type": "code",
   "execution_count": null,
   "id": "bff85e1c-d8a2-4d71-99dc-90d70d98224e",
   "metadata": {},
   "outputs": [],
   "source": []
  },
  {
   "cell_type": "code",
   "execution_count": null,
   "id": "ae655944-ea9d-4197-89ff-c97e765fe4be",
   "metadata": {},
   "outputs": [],
   "source": []
  },
  {
   "cell_type": "code",
   "execution_count": null,
   "id": "7305e215-00b8-4c74-80e0-585643b00fd4",
   "metadata": {},
   "outputs": [],
   "source": []
  },
  {
   "cell_type": "markdown",
   "id": "90a01b86-7cc0-4518-a8f8-02af588a4cf7",
   "metadata": {},
   "source": [
    "### Qs 3. Perform sentiment analysis. Build a ML model that can predict whether a review is positive or negative."
   ]
  },
  {
   "cell_type": "code",
   "execution_count": null,
   "id": "869fa721-93a4-47a3-8a83-81ad6afda1cd",
   "metadata": {},
   "outputs": [],
   "source": [
    "# Creating the object of the pipeline.\n",
    "\n",
    "sentiment_pipeline = pipeline(\"sentiment-analysis\")"
   ]
  },
  {
   "cell_type": "code",
   "execution_count": null,
   "id": "d882c622-c472-43dd-b2e5-77468f263249",
   "metadata": {},
   "outputs": [],
   "source": [
    "# the task to be performed is passed as an argumen\n",
    "\n",
    "data = list(df['Cleaned_Review_Text'])\n",
    "Rev_text_sent_anly = sentiment_pipeline(data)\n",
    "Rev_text_sent_anly"
   ]
  },
  {
   "cell_type": "code",
   "execution_count": null,
   "id": "509fe1b2-5375-4109-ab4e-1972bcedb43a",
   "metadata": {},
   "outputs": [],
   "source": [
    "# Creating a dataframe for the sentiment analysis performed\n",
    "\n",
    "Text_sent_df = pd.DataFrame(Rev_text_sent_anly)\n",
    "Text_sent_df"
   ]
  },
  {
   "cell_type": "code",
   "execution_count": null,
   "id": "7d2c7abc-2f4a-446c-a01c-3996761bdc44",
   "metadata": {},
   "outputs": [],
   "source": [
    "# Grouping the analysed label result\n",
    "\n",
    "Lab_sent_count = Text_sent_df.groupby(['label']).size()\n",
    "print(Lab_sent_count)"
   ]
  },
  {
   "cell_type": "code",
   "execution_count": null,
   "id": "f7951e00-c36a-43e1-96e1-43ef45e8d3e6",
   "metadata": {},
   "outputs": [],
   "source": [
    "# Creating a pie chart plot for the analysed result\n",
    "\n",
    "fig = plt.figure(figsize=(5,5), dpi=100)\n",
    "AX = plt.subplot(111)\n",
    "Lab_sent_count.plot.pie(ax=AX, autopct='%1.1f%%', startangle=270, fontsize=10, label=\"\")\n",
    "plt.show()"
   ]
  },
  {
   "cell_type": "code",
   "execution_count": null,
   "id": "d1ca2fd8-be28-4b4e-91b3-867585e89704",
   "metadata": {},
   "outputs": [],
   "source": [
    "# Splitting into train and test\n",
    "\n",
    "from sklearn.model_selection import train_test_split\n",
    "\n",
    "# Target\n",
    "TARGET = \"label\"\n",
    "TEST_SIZE = 0.1\n",
    "RANDOM_STATE = 123\n",
    "\n",
    "X = df[\"Cleaned_Review_Text\"]\n",
    "y = Text_sent_df[TARGET]\n",
    "\n",
    "# Split data\n",
    "X_train, x_validate, y_train, y_validate = train_test_split(\n",
    "    X, y, test_size=TEST_SIZE, random_state=RANDOM_STATE\n",
    ")\n",
    "\n",
    "X_train.shape, x_validate.shape"
   ]
  },
  {
   "cell_type": "code",
   "execution_count": null,
   "id": "6b0eb5de-76a7-4cf4-8028-d00bbf8d3a60",
   "metadata": {},
   "outputs": [],
   "source": [
    "# Checking the split X_train\n",
    "\n",
    "X_train.head()"
   ]
  },
  {
   "cell_type": "code",
   "execution_count": null,
   "id": "871ae67f-e44c-426a-994b-914a2d2831d1",
   "metadata": {},
   "outputs": [],
   "source": [
    "# Checking the split y_train\n",
    "\n",
    "y_train.head()"
   ]
  },
  {
   "cell_type": "code",
   "execution_count": null,
   "id": "db439a65-4158-4baa-ab02-4b76ff7eb0b3",
   "metadata": {},
   "outputs": [],
   "source": [
    "# Plotting a countplot of the analysed result\n",
    "\n",
    "df = pd.concat([X_train, y_train], axis=\"columns\")\n",
    "\n",
    "# Distribution of the target. It is fairly balanced.\n",
    "sns.countplot(x=TARGET, data=df, color=\"g\")\n",
    "plt.title(f\"Distribution of {TARGET!r}\", size=15)\n",
    "plt.tight_layout()\n",
    "plt.show()"
   ]
  },
  {
   "cell_type": "code",
   "execution_count": null,
   "id": "692dfdf6-666c-4ccb-b66f-c3e4d7e6b9b6",
   "metadata": {},
   "outputs": [],
   "source": [
    "# Preprocess the text\n",
    "\n",
    "from sklearn.feature_extraction.text import CountVectorizer\n",
    "\n",
    "vectorizer = CountVectorizer()\n",
    "\n",
    "# Counting the words\n",
    "X_tr_new = vectorizer.fit_transform(X_train)\n",
    "X_val = vectorizer.transform(x_validate)\n",
    "\n",
    "X_tr_new "
   ]
  },
  {
   "cell_type": "code",
   "execution_count": null,
   "id": "7f25d540-b6ea-44b5-8136-9276e0f2f8c9",
   "metadata": {},
   "outputs": [],
   "source": [
    "# Train the model\n",
    "\n",
    "from sklearn.naive_bayes import MultinomialNB\n",
    "\n",
    "nb_model = MultinomialNB()\n",
    "nb_model.fit(X_tr_new, y_train)\n",
    "\n",
    "# Check the accuracy\n",
    "train_accuracy = nb_model.score(X_tr_new, y_train)\n",
    "val_accuracy = nb_model.score(X_val, y_validate)\n",
    "\n",
    "print(f\"Train accuracy: {train_accuracy:.3f}\")\n",
    "print(f\"Test accuracy: {val_accuracy:.3f}\")"
   ]
  },
  {
   "cell_type": "code",
   "execution_count": null,
   "id": "a8579431-23f6-421a-87b3-95c5d29f20a4",
   "metadata": {},
   "outputs": [],
   "source": []
  },
  {
   "cell_type": "code",
   "execution_count": null,
   "id": "a7c51efe-bc28-4e66-90a1-96d2575a84c7",
   "metadata": {},
   "outputs": [],
   "source": []
  },
  {
   "cell_type": "code",
   "execution_count": null,
   "id": "9bc76ef1-1c31-46b8-a050-eb358a2394b2",
   "metadata": {},
   "outputs": [],
   "source": []
  },
  {
   "cell_type": "code",
   "execution_count": null,
   "id": "69a452fe-019d-4b39-a991-e7259abcf1ba",
   "metadata": {},
   "outputs": [],
   "source": []
  },
  {
   "cell_type": "code",
   "execution_count": null,
   "id": "50a8ccf2-4b69-4cdb-87d6-e27a2eab119c",
   "metadata": {},
   "outputs": [],
   "source": []
  },
  {
   "cell_type": "code",
   "execution_count": null,
   "id": "51c4c104-829d-45a3-9663-e3538da7b27d",
   "metadata": {},
   "outputs": [],
   "source": []
  }
 ],
 "metadata": {
  "kernelspec": {
   "display_name": "Python 3 (ipykernel)",
   "language": "python",
   "name": "python3"
  },
  "language_info": {
   "codemirror_mode": {
    "name": "ipython",
    "version": 3
   },
   "file_extension": ".py",
   "mimetype": "text/x-python",
   "name": "python",
   "nbconvert_exporter": "python",
   "pygments_lexer": "ipython3",
   "version": "3.9.12"
  }
 },
 "nbformat": 4,
 "nbformat_minor": 5
}
